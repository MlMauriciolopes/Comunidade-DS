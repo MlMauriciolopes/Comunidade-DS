{
 "cells": [
  {
   "cell_type": "markdown",
   "id": "2ea6b7b5",
   "metadata": {},
   "source": [
    "# Aula 01 - Resolução dos Exercícios\n",
    "\n",
    "## Novas perguntas do CEO para vocês\n",
    "1. Quantas casas estão disponíveis para compra?\n",
    "2. Quantos atributos as casas possuem?\n",
    "3. Quais são os atributos das casas?\n",
    "4. Qual a casa mais cara ( casa com o maior valor de venda )?\n",
    "5. Qual a casa com o maior número de quartos?\n",
    "\n",
    "6. Qual a soma total de quartos do conjunto de dados?\n",
    "7. Quantas casas possuem 2 banheiros?\n",
    "8. Qual o preço médio de todas as casas no conjunto de dados?\n",
    "9. Qual o preço médio de casas com 2 banheiros?\n",
    "10. Qual o preço mínimo entre as casas com 3 quartos?\n",
    "\n",
    "11. Quantas casas possuem mais de 300 metros quadrados na sala de estar?\n",
    "12. Quantas casas tem mais de 2 andares?\n",
    "13. Quantas casas tem vista para o mar?\n",
    "14. Das casas com vista para o mar, quantas tem 3 quartos?\n",
    "15. Das casas com mais de 300 metros quadrados de sala de estar, quantas tem mais de 2 banheiros?"
   ]
  },
  {
   "cell_type": "markdown",
   "id": "f7fd6a65",
   "metadata": {},
   "source": [
    "## Carregando dados"
   ]
  },
  {
   "cell_type": "markdown",
   "id": "f86fe577",
   "metadata": {},
   "source": [
    "Link do dataset\n",
    "https://www.kaggle.com/datasets/harlfoxem/housesalesprediction"
   ]
  },
  {
   "cell_type": "code",
   "execution_count": 1,
   "id": "78311c99",
   "metadata": {},
   "outputs": [],
   "source": [
    "import numpy  as np\n",
    "import pandas as pd"
   ]
  },
  {
   "cell_type": "code",
   "execution_count": 2,
   "id": "d2acb3c7",
   "metadata": {},
   "outputs": [],
   "source": [
    "data = pd.read_csv(r'C:\\Users\\mlsil\\OneDrive\\Documentos\\repos\\python_zero_ao_ds\\csv\\kc_house_data.csv')"
   ]
  },
  {
   "cell_type": "code",
   "execution_count": 3,
   "id": "41fe0a83",
   "metadata": {},
   "outputs": [
    {
     "data": {
      "text/html": [
       "<div>\n",
       "<style scoped>\n",
       "    .dataframe tbody tr th:only-of-type {\n",
       "        vertical-align: middle;\n",
       "    }\n",
       "\n",
       "    .dataframe tbody tr th {\n",
       "        vertical-align: top;\n",
       "    }\n",
       "\n",
       "    .dataframe thead th {\n",
       "        text-align: right;\n",
       "    }\n",
       "</style>\n",
       "<table border=\"1\" class=\"dataframe\">\n",
       "  <thead>\n",
       "    <tr style=\"text-align: right;\">\n",
       "      <th></th>\n",
       "      <th>id</th>\n",
       "      <th>date</th>\n",
       "      <th>price</th>\n",
       "      <th>bedrooms</th>\n",
       "      <th>bathrooms</th>\n",
       "      <th>sqft_living</th>\n",
       "      <th>sqft_lot</th>\n",
       "      <th>floors</th>\n",
       "      <th>waterfront</th>\n",
       "      <th>view</th>\n",
       "      <th>...</th>\n",
       "      <th>grade</th>\n",
       "      <th>sqft_above</th>\n",
       "      <th>sqft_basement</th>\n",
       "      <th>yr_built</th>\n",
       "      <th>yr_renovated</th>\n",
       "      <th>zipcode</th>\n",
       "      <th>lat</th>\n",
       "      <th>long</th>\n",
       "      <th>sqft_living15</th>\n",
       "      <th>sqft_lot15</th>\n",
       "    </tr>\n",
       "  </thead>\n",
       "  <tbody>\n",
       "    <tr>\n",
       "      <th>0</th>\n",
       "      <td>7129300520</td>\n",
       "      <td>20141013T000000</td>\n",
       "      <td>221900.0</td>\n",
       "      <td>3</td>\n",
       "      <td>1.00</td>\n",
       "      <td>1180</td>\n",
       "      <td>5650</td>\n",
       "      <td>1.0</td>\n",
       "      <td>0</td>\n",
       "      <td>0</td>\n",
       "      <td>...</td>\n",
       "      <td>7</td>\n",
       "      <td>1180</td>\n",
       "      <td>0</td>\n",
       "      <td>1955</td>\n",
       "      <td>0</td>\n",
       "      <td>98178</td>\n",
       "      <td>47.5112</td>\n",
       "      <td>-122.257</td>\n",
       "      <td>1340</td>\n",
       "      <td>5650</td>\n",
       "    </tr>\n",
       "    <tr>\n",
       "      <th>1</th>\n",
       "      <td>6414100192</td>\n",
       "      <td>20141209T000000</td>\n",
       "      <td>538000.0</td>\n",
       "      <td>3</td>\n",
       "      <td>2.25</td>\n",
       "      <td>2570</td>\n",
       "      <td>7242</td>\n",
       "      <td>2.0</td>\n",
       "      <td>0</td>\n",
       "      <td>0</td>\n",
       "      <td>...</td>\n",
       "      <td>7</td>\n",
       "      <td>2170</td>\n",
       "      <td>400</td>\n",
       "      <td>1951</td>\n",
       "      <td>1991</td>\n",
       "      <td>98125</td>\n",
       "      <td>47.7210</td>\n",
       "      <td>-122.319</td>\n",
       "      <td>1690</td>\n",
       "      <td>7639</td>\n",
       "    </tr>\n",
       "    <tr>\n",
       "      <th>2</th>\n",
       "      <td>5631500400</td>\n",
       "      <td>20150225T000000</td>\n",
       "      <td>180000.0</td>\n",
       "      <td>2</td>\n",
       "      <td>1.00</td>\n",
       "      <td>770</td>\n",
       "      <td>10000</td>\n",
       "      <td>1.0</td>\n",
       "      <td>0</td>\n",
       "      <td>0</td>\n",
       "      <td>...</td>\n",
       "      <td>6</td>\n",
       "      <td>770</td>\n",
       "      <td>0</td>\n",
       "      <td>1933</td>\n",
       "      <td>0</td>\n",
       "      <td>98028</td>\n",
       "      <td>47.7379</td>\n",
       "      <td>-122.233</td>\n",
       "      <td>2720</td>\n",
       "      <td>8062</td>\n",
       "    </tr>\n",
       "    <tr>\n",
       "      <th>3</th>\n",
       "      <td>2487200875</td>\n",
       "      <td>20141209T000000</td>\n",
       "      <td>604000.0</td>\n",
       "      <td>4</td>\n",
       "      <td>3.00</td>\n",
       "      <td>1960</td>\n",
       "      <td>5000</td>\n",
       "      <td>1.0</td>\n",
       "      <td>0</td>\n",
       "      <td>0</td>\n",
       "      <td>...</td>\n",
       "      <td>7</td>\n",
       "      <td>1050</td>\n",
       "      <td>910</td>\n",
       "      <td>1965</td>\n",
       "      <td>0</td>\n",
       "      <td>98136</td>\n",
       "      <td>47.5208</td>\n",
       "      <td>-122.393</td>\n",
       "      <td>1360</td>\n",
       "      <td>5000</td>\n",
       "    </tr>\n",
       "    <tr>\n",
       "      <th>4</th>\n",
       "      <td>1954400510</td>\n",
       "      <td>20150218T000000</td>\n",
       "      <td>510000.0</td>\n",
       "      <td>3</td>\n",
       "      <td>2.00</td>\n",
       "      <td>1680</td>\n",
       "      <td>8080</td>\n",
       "      <td>1.0</td>\n",
       "      <td>0</td>\n",
       "      <td>0</td>\n",
       "      <td>...</td>\n",
       "      <td>8</td>\n",
       "      <td>1680</td>\n",
       "      <td>0</td>\n",
       "      <td>1987</td>\n",
       "      <td>0</td>\n",
       "      <td>98074</td>\n",
       "      <td>47.6168</td>\n",
       "      <td>-122.045</td>\n",
       "      <td>1800</td>\n",
       "      <td>7503</td>\n",
       "    </tr>\n",
       "  </tbody>\n",
       "</table>\n",
       "<p>5 rows × 21 columns</p>\n",
       "</div>"
      ],
      "text/plain": [
       "           id             date     price  bedrooms  bathrooms  sqft_living  \\\n",
       "0  7129300520  20141013T000000  221900.0         3       1.00         1180   \n",
       "1  6414100192  20141209T000000  538000.0         3       2.25         2570   \n",
       "2  5631500400  20150225T000000  180000.0         2       1.00          770   \n",
       "3  2487200875  20141209T000000  604000.0         4       3.00         1960   \n",
       "4  1954400510  20150218T000000  510000.0         3       2.00         1680   \n",
       "\n",
       "   sqft_lot  floors  waterfront  view  ...  grade  sqft_above  sqft_basement  \\\n",
       "0      5650     1.0           0     0  ...      7        1180              0   \n",
       "1      7242     2.0           0     0  ...      7        2170            400   \n",
       "2     10000     1.0           0     0  ...      6         770              0   \n",
       "3      5000     1.0           0     0  ...      7        1050            910   \n",
       "4      8080     1.0           0     0  ...      8        1680              0   \n",
       "\n",
       "   yr_built  yr_renovated  zipcode      lat     long  sqft_living15  \\\n",
       "0      1955             0    98178  47.5112 -122.257           1340   \n",
       "1      1951          1991    98125  47.7210 -122.319           1690   \n",
       "2      1933             0    98028  47.7379 -122.233           2720   \n",
       "3      1965             0    98136  47.5208 -122.393           1360   \n",
       "4      1987             0    98074  47.6168 -122.045           1800   \n",
       "\n",
       "   sqft_lot15  \n",
       "0        5650  \n",
       "1        7639  \n",
       "2        8062  \n",
       "3        5000  \n",
       "4        7503  \n",
       "\n",
       "[5 rows x 21 columns]"
      ]
     },
     "execution_count": 3,
     "metadata": {},
     "output_type": "execute_result"
    }
   ],
   "source": [
    "data.head()"
   ]
  },
  {
   "cell_type": "markdown",
   "id": "ca5cb4d9",
   "metadata": {},
   "source": [
    "## 1. Quantas casas estão disponíveis para compra?\n"
   ]
  },
  {
   "cell_type": "code",
   "execution_count": 4,
   "id": "adc5a4a7",
   "metadata": {},
   "outputs": [
    {
     "name": "stdout",
     "output_type": "stream",
     "text": [
      "O número de casas disponíveis é de 21436 !\n"
     ]
    }
   ],
   "source": [
    "# Selecionar a coluna \"id\"\n",
    "# Contar o número de valores únicos\n",
    "\n",
    "# Solução #1\n",
    "houses = len(data['id'].unique())\n",
    "print('O número de casas disponíveis é de {} !'.format(houses))"
   ]
  },
  {
   "cell_type": "code",
   "execution_count": 5,
   "id": "aa3c3fbe",
   "metadata": {},
   "outputs": [
    {
     "name": "stdout",
     "output_type": "stream",
     "text": [
      "O número de casas disponíveis é de 21436 !\n"
     ]
    }
   ],
   "source": [
    "# Solução #2\n",
    "houses = len(data['id'].drop_duplicates())\n",
    "print(f'O número de casas disponíveis é de {houses} !')"
   ]
  },
  {
   "cell_type": "markdown",
   "id": "b48b75a3",
   "metadata": {},
   "source": [
    "## 2. Quantos atributos as casas possuem?\n"
   ]
  },
  {
   "cell_type": "code",
   "execution_count": 6,
   "id": "e61df41e",
   "metadata": {},
   "outputs": [
    {
     "data": {
      "text/plain": [
       "19"
      ]
     },
     "execution_count": 6,
     "metadata": {},
     "output_type": "execute_result"
    }
   ],
   "source": [
    "# Considerações:\n",
    "# AS colunas 'id' e 'date' não são os atributos das casas\n",
    "len(data.columns) -2"
   ]
  },
  {
   "cell_type": "code",
   "execution_count": 7,
   "id": "fb12522b",
   "metadata": {},
   "outputs": [
    {
     "data": {
      "text/plain": [
       "19"
      ]
     },
     "execution_count": 7,
     "metadata": {},
     "output_type": "execute_result"
    }
   ],
   "source": [
    "len(data.drop(['id', 'date'], axis=1).columns)"
   ]
  },
  {
   "cell_type": "markdown",
   "id": "6fa33d4f",
   "metadata": {},
   "source": [
    "## 3. Quais são os atributos das casas?\n"
   ]
  },
  {
   "cell_type": "code",
   "execution_count": 8,
   "id": "4abc62c2",
   "metadata": {},
   "outputs": [
    {
     "data": {
      "text/plain": [
       "Index(['price', 'bedrooms', 'bathrooms', 'sqft_living', 'sqft_lot', 'floors',\n",
       "       'waterfront', 'view', 'condition', 'grade', 'sqft_above',\n",
       "       'sqft_basement', 'yr_built', 'yr_renovated', 'zipcode', 'lat', 'long',\n",
       "       'sqft_living15', 'sqft_lot15'],\n",
       "      dtype='object')"
      ]
     },
     "execution_count": 8,
     "metadata": {},
     "output_type": "execute_result"
    }
   ],
   "source": [
    "# Considerações:\n",
    "# AS colunas 'id' e 'date' não são os atributos das casas\n",
    "data.drop(['id', 'date'], axis=1).columns"
   ]
  },
  {
   "cell_type": "markdown",
   "id": "fdabb2c9",
   "metadata": {},
   "source": [
    "## 4. Qual a casa mais cara ( casa com o maior valor de venda )?\n"
   ]
  },
  {
   "cell_type": "code",
   "execution_count": 9,
   "id": "5695213a",
   "metadata": {},
   "outputs": [
    {
     "data": {
      "text/plain": [
       "6762700020"
      ]
     },
     "execution_count": 9,
     "metadata": {},
     "output_type": "execute_result"
    }
   ],
   "source": [
    "# Resetar o index para não pegar valores errados\n",
    "data[['id', 'price']].sort_values('price', ascending=False).reset_index(drop=True).loc[0, 'id']"
   ]
  },
  {
   "cell_type": "markdown",
   "id": "be066143",
   "metadata": {},
   "source": [
    "## 5. Qual a casa com o maior número de quartos?\n"
   ]
  },
  {
   "cell_type": "code",
   "execution_count": 10,
   "id": "684d8aca",
   "metadata": {},
   "outputs": [
    {
     "data": {
      "text/plain": [
       "2402100895"
      ]
     },
     "execution_count": 10,
     "metadata": {},
     "output_type": "execute_result"
    }
   ],
   "source": [
    "# Resetar o index para não pegar valores errados\n",
    "data[['id', 'bedrooms']].sort_values('bedrooms', ascending=False).reset_index(drop=True).loc[0, 'id']"
   ]
  },
  {
   "cell_type": "markdown",
   "id": "5a7dc13b",
   "metadata": {},
   "source": [
    "## 6. Qual a soma total de quartos do conjunto de dados?\n"
   ]
  },
  {
   "cell_type": "code",
   "execution_count": 11,
   "id": "850b060e",
   "metadata": {},
   "outputs": [
    {
     "data": {
      "text/plain": [
       "72854"
      ]
     },
     "execution_count": 11,
     "metadata": {},
     "output_type": "execute_result"
    }
   ],
   "source": [
    "# Método pandas\n",
    "data['bedrooms'].sum()"
   ]
  },
  {
   "cell_type": "code",
   "execution_count": 12,
   "id": "146eaefd",
   "metadata": {},
   "outputs": [
    {
     "data": {
      "text/plain": [
       "72854"
      ]
     },
     "execution_count": 12,
     "metadata": {},
     "output_type": "execute_result"
    }
   ],
   "source": [
    "# Método numpy\n",
    "np.sum(data['bedrooms'])"
   ]
  },
  {
   "cell_type": "markdown",
   "id": "64781201",
   "metadata": {},
   "source": [
    "## 7. Quantas casas possuem 2 banheiros?\n"
   ]
  },
  {
   "cell_type": "code",
   "execution_count": 13,
   "id": "87c63015",
   "metadata": {},
   "outputs": [
    {
     "name": "stdout",
     "output_type": "stream",
     "text": [
      "O número de casas que possuem 2 banheiros é de 1930.\n"
     ]
    }
   ],
   "source": [
    "# Filtrar somente os valores 'id' cujo valor da coluna 'bathroom é igual a 2'\n",
    "# Selecionar as colunas 'id' e 'bathroom'\n",
    "# Contar o numero de valores da coluna 'id'\n",
    "\n",
    "houses = len(data.loc[data['bathrooms'] == 2, ['id', 'bathrooms']])\n",
    "print(f'O número de casas que possuem 2 banheiros é de {houses}.')"
   ]
  },
  {
   "cell_type": "markdown",
   "id": "f6fba4b2",
   "metadata": {},
   "source": [
    "## 8. Qual o preço médio de todas as casas no conjunto de dados?\n"
   ]
  },
  {
   "cell_type": "code",
   "execution_count": 14,
   "id": "891162b2",
   "metadata": {},
   "outputs": [
    {
     "data": {
      "text/plain": [
       "540088.1417665294"
      ]
     },
     "execution_count": 14,
     "metadata": {},
     "output_type": "execute_result"
    }
   ],
   "source": [
    "# Recomendado fazer o dtypes primeiro para verificar o tipo de objeto que é.\n",
    "data['price'].mean()"
   ]
  },
  {
   "cell_type": "code",
   "execution_count": 15,
   "id": "a7774863",
   "metadata": {},
   "outputs": [
    {
     "data": {
      "text/plain": [
       "540088.14"
      ]
     },
     "execution_count": 15,
     "metadata": {},
     "output_type": "execute_result"
    }
   ],
   "source": [
    "# Biblioteca numpy\n",
    "# Arredondamento de 2 casas\n",
    "np.round(data['price'].mean(), 2)"
   ]
  },
  {
   "cell_type": "markdown",
   "id": "fb87d503",
   "metadata": {},
   "source": [
    "## 9. Qual o preço médio de casas com 2 banheiros?\n"
   ]
  },
  {
   "cell_type": "code",
   "execution_count": 16,
   "id": "bac8e6fe",
   "metadata": {},
   "outputs": [
    {
     "data": {
      "text/plain": [
       "457889.72"
      ]
     },
     "execution_count": 16,
     "metadata": {},
     "output_type": "execute_result"
    }
   ],
   "source": [
    "# Biblioteca numpy\n",
    "# Arredondamento de 2 casas\n",
    "np.round(data.loc[data['bathrooms'] == 2, 'price'].mean(), 2)"
   ]
  },
  {
   "cell_type": "markdown",
   "id": "350db628",
   "metadata": {},
   "source": [
    "## 10. Qual o preço mínimo entre as casas com 3 quartos?\n"
   ]
  },
  {
   "cell_type": "code",
   "execution_count": 17,
   "id": "d63d66c9",
   "metadata": {},
   "outputs": [
    {
     "data": {
      "text/plain": [
       "82000.0"
      ]
     },
     "execution_count": 17,
     "metadata": {},
     "output_type": "execute_result"
    }
   ],
   "source": [
    "# Solução 1\n",
    "data.loc[data['bedrooms'] == 3, 'price'].min()"
   ]
  },
  {
   "cell_type": "code",
   "execution_count": 18,
   "id": "9b14d508",
   "metadata": {},
   "outputs": [
    {
     "data": {
      "text/html": [
       "<div>\n",
       "<style scoped>\n",
       "    .dataframe tbody tr th:only-of-type {\n",
       "        vertical-align: middle;\n",
       "    }\n",
       "\n",
       "    .dataframe tbody tr th {\n",
       "        vertical-align: top;\n",
       "    }\n",
       "\n",
       "    .dataframe thead th {\n",
       "        text-align: right;\n",
       "    }\n",
       "</style>\n",
       "<table border=\"1\" class=\"dataframe\">\n",
       "  <thead>\n",
       "    <tr style=\"text-align: right;\">\n",
       "      <th></th>\n",
       "      <th>id</th>\n",
       "      <th>price</th>\n",
       "    </tr>\n",
       "  </thead>\n",
       "  <tbody>\n",
       "    <tr>\n",
       "      <th>8274</th>\n",
       "      <td>3883800011</td>\n",
       "      <td>82000.0</td>\n",
       "    </tr>\n",
       "    <tr>\n",
       "      <th>13756</th>\n",
       "      <td>1788900230</td>\n",
       "      <td>86500.0</td>\n",
       "    </tr>\n",
       "    <tr>\n",
       "      <th>5866</th>\n",
       "      <td>9320900420</td>\n",
       "      <td>89000.0</td>\n",
       "    </tr>\n",
       "    <tr>\n",
       "      <th>18939</th>\n",
       "      <td>4239400300</td>\n",
       "      <td>90000.0</td>\n",
       "    </tr>\n",
       "    <tr>\n",
       "      <th>5723</th>\n",
       "      <td>1788800630</td>\n",
       "      <td>96500.0</td>\n",
       "    </tr>\n",
       "  </tbody>\n",
       "</table>\n",
       "</div>"
      ],
      "text/plain": [
       "               id    price\n",
       "8274   3883800011  82000.0\n",
       "13756  1788900230  86500.0\n",
       "5866   9320900420  89000.0\n",
       "18939  4239400300  90000.0\n",
       "5723   1788800630  96500.0"
      ]
     },
     "execution_count": 18,
     "metadata": {},
     "output_type": "execute_result"
    }
   ],
   "source": [
    "# Solução 2\n",
    "data.loc[data['bedrooms'] == 3, ['id', 'price']].sort_values('price', ascending=True).head()"
   ]
  },
  {
   "cell_type": "markdown",
   "id": "0c50d700",
   "metadata": {},
   "source": [
    "## 11. Quantas casas possuem mais de 300 metros quadrados na sala\n"
   ]
  },
  {
   "cell_type": "code",
   "execution_count": 19,
   "id": "19017572",
   "metadata": {},
   "outputs": [
    {
     "data": {
      "text/plain": [
       "2258"
      ]
     },
     "execution_count": 19,
     "metadata": {},
     "output_type": "execute_result"
    }
   ],
   "source": [
    "# Criar coluna 'm2'\n",
    "# Converter primeiro o 'sqft_living' para metros quadrados\n",
    "data['m2'] = data['sqft_living'] * 0.093\n",
    "\n",
    "len(data.loc[data['m2'] > 300, 'id'])"
   ]
  },
  {
   "cell_type": "markdown",
   "id": "05c23f19",
   "metadata": {},
   "source": [
    "## 12. Quantas casas tem mais de 2 andares?\n"
   ]
  },
  {
   "cell_type": "code",
   "execution_count": 20,
   "id": "76e91ab9",
   "metadata": {},
   "outputs": [
    {
     "data": {
      "text/plain": [
       "782"
      ]
     },
     "execution_count": 20,
     "metadata": {},
     "output_type": "execute_result"
    }
   ],
   "source": [
    "# Solução 1\n",
    "len(data.loc[data['floors'] > 2, 'id'])"
   ]
  },
  {
   "cell_type": "code",
   "execution_count": 21,
   "id": "d37a25c1",
   "metadata": {},
   "outputs": [
    {
     "data": {
      "text/plain": [
       "782"
      ]
     },
     "execution_count": 21,
     "metadata": {},
     "output_type": "execute_result"
    }
   ],
   "source": [
    "# Solução 2\n",
    "data.loc[data['floors'] > 2, 'id'].size"
   ]
  },
  {
   "cell_type": "markdown",
   "id": "88851034",
   "metadata": {},
   "source": [
    "## 13. Quantas casas tem vista para o mar?\n"
   ]
  },
  {
   "cell_type": "code",
   "execution_count": 22,
   "id": "54bf84f1",
   "metadata": {},
   "outputs": [
    {
     "data": {
      "text/plain": [
       "163"
      ]
     },
     "execution_count": 22,
     "metadata": {},
     "output_type": "execute_result"
    }
   ],
   "source": [
    "len(data.loc[data['waterfront'] == 1, 'id'])"
   ]
  },
  {
   "cell_type": "markdown",
   "id": "5496cda8",
   "metadata": {},
   "source": [
    "## 14. Das casas com vista para o mar, quantas tem 3 quartos?\n"
   ]
  },
  {
   "cell_type": "code",
   "execution_count": 23,
   "id": "3bf42376",
   "metadata": {},
   "outputs": [
    {
     "data": {
      "text/plain": [
       "64"
      ]
     },
     "execution_count": 23,
     "metadata": {},
     "output_type": "execute_result"
    }
   ],
   "source": [
    "#(data['waterfront'] == 1) & (data['bedrooms'] == 3)\n",
    "len(data.loc[(data['waterfront'] == 1) & (data['bedrooms'] == 3), 'id'])"
   ]
  },
  {
   "cell_type": "markdown",
   "id": "35cf7865",
   "metadata": {},
   "source": [
    "## 15. Das casas com mais de 300 metros quadrados de sala de estar, quantas tem mais de 2 banheiros?\n"
   ]
  },
  {
   "cell_type": "code",
   "execution_count": 24,
   "id": "067191f9",
   "metadata": {},
   "outputs": [
    {
     "data": {
      "text/plain": [
       "2201"
      ]
     },
     "execution_count": 24,
     "metadata": {},
     "output_type": "execute_result"
    }
   ],
   "source": [
    "#(data['m2'] > 300) & (data['bathrooms'] > 2)\n",
    "\n",
    "len(data.loc[(data['m2'] > 300) & (data['bathrooms'] > 2), 'id'])"
   ]
  }
 ],
 "metadata": {
  "kernelspec": {
   "display_name": "Python 3 (ipykernel)",
   "language": "python",
   "name": "python3"
  },
  "language_info": {
   "codemirror_mode": {
    "name": "ipython",
    "version": 3
   },
   "file_extension": ".py",
   "mimetype": "text/x-python",
   "name": "python",
   "nbconvert_exporter": "python",
   "pygments_lexer": "ipython3",
   "version": "3.9.12"
  }
 },
 "nbformat": 4,
 "nbformat_minor": 5
}
