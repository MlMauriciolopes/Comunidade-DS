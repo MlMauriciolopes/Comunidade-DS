{
 "cells": [
  {
   "cell_type": "markdown",
   "id": "af341438",
   "metadata": {},
   "source": [
    "## Desafio XGB Sales"
   ]
  },
  {
   "cell_type": "code",
   "execution_count": 87,
   "id": "ca28be0d",
   "metadata": {},
   "outputs": [],
   "source": [
    "# inserção de imagens\n",
    "from IPython.display import Image"
   ]
  },
  {
   "cell_type": "markdown",
   "id": "b6d021a2",
   "metadata": {},
   "source": [
    "A Xtreme Groovy Bikes Sales é uma empresa de revenda de motocicletas. Seu modelo de nogócio é revender motocicletas usadas. Com a crescente do valor dos veículos usados, a XGB Sales, como é conhecida, deseja expandir os seus negócios. Você foi contratado como cientista de dados pela empresa XGB Sales para ajudá-los a encotrar as melhores motocicletas para revenda.\n",
    "\n",
    "Para isso, o CEO da empresa fez um estudo de mercado lhe entregou uma base de dados, obtida através desse estudo, para que você consiga auxiliá-lo a encontrar as melhores motocicletas para revenda, aumentando assim o lucro da empresa.\n",
    "\n",
    "Além disso, o CEO lhe fez algumas perguntas a cerca da base de dados que a empresa possui. Lembrando que o contexto, pessoas e perguntas são completamente fictícios e existem somente na minha imaginação.\n"
   ]
  },
  {
   "cell_type": "markdown",
   "id": "b01f128b",
   "metadata": {},
   "source": [
    "A empresa XGB Sales lhe contratou como cientista de dados pois ela deseja aumentar o seu lucro comprando e revendendo as melhores motos disponíveis dentro da base de dados que a empresa adquiriu através de um estudo de mercado. \n",
    "\n",
    "Dessa forma, o CEO da XGB Sales lhe fez as seguintes perguntas:\n",
    "\n",
    "1. Quantas motos temos dentro do Dataset?\n",
    "2. Qual é o ano da moto mais antiga da base de dados?\n",
    "3. Qual é o ano da moto mais nova da base de dados?\n",
    "4. Qual é o valor da moto mais cara da base de dados?\n",
    "5. Qual é o valor do hodômotro da moto com a maior quilometragem?\n",
    "6. Qual é o valor do hodômotro da moto com a menor quiilometragem?\n",
    "7. Das motocicletas que estão sendo expostas dentro de um Show Room, qual é o maior valor registrado na base de dados?\n",
    "8. Das motocicletas que estão sendo expostas dentro de um Show Room, qual é o menor valor registrado na base de dados?\n",
    "9. Quantas motocicletas estão sendo vendidades pelos seus donos e quantas estão sendo vendidas por outros revendedores?\n",
    "10. Qual é a média de valores das motos na base de dados?\n",
    "11. Qual é a média de ano das motos cadastradas dentro da base de dados?\n",
    "12. Qual é a média de quilometragem das motos cadastradas dentro da base de dados?\n",
    "13. Existem quantas motos dentro da base de dados que são motos de um único dono?\n",
    "14. As motos com menor quilometragem são as motos mais baratas do Dataset?"
   ]
  },
  {
   "cell_type": "code",
   "execution_count": 89,
   "id": "3e7b5a38",
   "metadata": {},
   "outputs": [],
   "source": [
    "# bibliotecas\n",
    "\n",
    "import seaborn as sns\n",
    "import numpy   as np\n",
    "import pandas  as pd\n",
    "import math\n"
   ]
  },
  {
   "cell_type": "code",
   "execution_count": 90,
   "id": "6cac2f05",
   "metadata": {},
   "outputs": [
    {
     "data": {
      "text/html": [
       "<div>\n",
       "<style scoped>\n",
       "    .dataframe tbody tr th:only-of-type {\n",
       "        vertical-align: middle;\n",
       "    }\n",
       "\n",
       "    .dataframe tbody tr th {\n",
       "        vertical-align: top;\n",
       "    }\n",
       "\n",
       "    .dataframe thead th {\n",
       "        text-align: right;\n",
       "    }\n",
       "</style>\n",
       "<table border=\"1\" class=\"dataframe\">\n",
       "  <thead>\n",
       "    <tr style=\"text-align: right;\">\n",
       "      <th></th>\n",
       "      <th>name</th>\n",
       "      <th>selling_price</th>\n",
       "      <th>year</th>\n",
       "      <th>seller_type</th>\n",
       "      <th>owner</th>\n",
       "      <th>km_driven</th>\n",
       "      <th>ex_showroom_price</th>\n",
       "    </tr>\n",
       "  </thead>\n",
       "  <tbody>\n",
       "    <tr>\n",
       "      <th>0</th>\n",
       "      <td>Royal Enfield Classic 350</td>\n",
       "      <td>175000</td>\n",
       "      <td>2019</td>\n",
       "      <td>Individual</td>\n",
       "      <td>1st owner</td>\n",
       "      <td>350</td>\n",
       "      <td>NaN</td>\n",
       "    </tr>\n",
       "    <tr>\n",
       "      <th>1</th>\n",
       "      <td>Honda Dio</td>\n",
       "      <td>45000</td>\n",
       "      <td>2017</td>\n",
       "      <td>Individual</td>\n",
       "      <td>1st owner</td>\n",
       "      <td>5650</td>\n",
       "      <td>NaN</td>\n",
       "    </tr>\n",
       "    <tr>\n",
       "      <th>2</th>\n",
       "      <td>Royal Enfield Classic Gunmetal Grey</td>\n",
       "      <td>150000</td>\n",
       "      <td>2018</td>\n",
       "      <td>Individual</td>\n",
       "      <td>1st owner</td>\n",
       "      <td>12000</td>\n",
       "      <td>148114.0</td>\n",
       "    </tr>\n",
       "    <tr>\n",
       "      <th>3</th>\n",
       "      <td>Yamaha Fazer FI V 2.0 [2016-2018]</td>\n",
       "      <td>65000</td>\n",
       "      <td>2015</td>\n",
       "      <td>Individual</td>\n",
       "      <td>1st owner</td>\n",
       "      <td>23000</td>\n",
       "      <td>89643.0</td>\n",
       "    </tr>\n",
       "    <tr>\n",
       "      <th>4</th>\n",
       "      <td>Yamaha SZ [2013-2014]</td>\n",
       "      <td>20000</td>\n",
       "      <td>2011</td>\n",
       "      <td>Individual</td>\n",
       "      <td>2nd owner</td>\n",
       "      <td>21000</td>\n",
       "      <td>NaN</td>\n",
       "    </tr>\n",
       "  </tbody>\n",
       "</table>\n",
       "</div>"
      ],
      "text/plain": [
       "                                  name  selling_price  year seller_type  \\\n",
       "0            Royal Enfield Classic 350         175000  2019  Individual   \n",
       "1                            Honda Dio          45000  2017  Individual   \n",
       "2  Royal Enfield Classic Gunmetal Grey         150000  2018  Individual   \n",
       "3    Yamaha Fazer FI V 2.0 [2016-2018]          65000  2015  Individual   \n",
       "4                Yamaha SZ [2013-2014]          20000  2011  Individual   \n",
       "\n",
       "       owner  km_driven  ex_showroom_price  \n",
       "0  1st owner        350                NaN  \n",
       "1  1st owner       5650                NaN  \n",
       "2  1st owner      12000           148114.0  \n",
       "3  1st owner      23000            89643.0  \n",
       "4  2nd owner      21000                NaN  "
      ]
     },
     "execution_count": 90,
     "metadata": {},
     "output_type": "execute_result"
    }
   ],
   "source": [
    "# importar dados\n",
    "df = pd.read_csv('C:\\\\Users\\\\mlsil\\\\OneDrive\\\\Documentos\\\\repos\\\\fundamentos_programacao\\\\BIKE DETAILS.csv')\n",
    "df.head()"
   ]
  },
  {
   "cell_type": "code",
   "execution_count": 91,
   "id": "1f6a8a19",
   "metadata": {},
   "outputs": [
    {
     "data": {
      "text/plain": [
       "name                  object\n",
       "selling_price          int64\n",
       "year                   int64\n",
       "seller_type           object\n",
       "owner                 object\n",
       "km_driven              int64\n",
       "ex_showroom_price    float64\n",
       "dtype: object"
      ]
     },
     "execution_count": 91,
     "metadata": {},
     "output_type": "execute_result"
    }
   ],
   "source": [
    "# Verificação das colunas\n",
    "df.dtypes"
   ]
  },
  {
   "cell_type": "markdown",
   "id": "61115cd7",
   "metadata": {},
   "source": [
    "### Descrição das colunas"
   ]
  },
  {
   "cell_type": "markdown",
   "id": "a8883fd2",
   "metadata": {},
   "source": [
    "| Coluna | Descrição |\n",
    "| :----- | --------: |\n",
    "| ID | Identificador da linha/registro |\n",
    "| name | Fabricante e Modelo da Moto |\n",
    "| selling_price | Preço de Venda |\n",
    "| year | Ano de Fabricação da Moto |\n",
    "| seller_type | Tipo de Vendedor - Se é vendedor pessoal ou revendedor |\n",
    "| owner | Se é primeiro, segundo, terceiro ou quarto dono da moto |\n",
    "| km_driven | Quantidade de Quilometros percorrido pela moto |\n",
    "| ex_showroom_price | Preço da motocicleta sem as taxas de seguro e registro |"
   ]
  },
  {
   "cell_type": "markdown",
   "id": "29c05251",
   "metadata": {},
   "source": [
    "### Ajustando os dados das colunas"
   ]
  },
  {
   "cell_type": "code",
   "execution_count": 92,
   "id": "b4ddee5c",
   "metadata": {},
   "outputs": [
    {
     "data": {
      "text/html": [
       "<div>\n",
       "<style scoped>\n",
       "    .dataframe tbody tr th:only-of-type {\n",
       "        vertical-align: middle;\n",
       "    }\n",
       "\n",
       "    .dataframe tbody tr th {\n",
       "        vertical-align: top;\n",
       "    }\n",
       "\n",
       "    .dataframe thead th {\n",
       "        text-align: right;\n",
       "    }\n",
       "</style>\n",
       "<table border=\"1\" class=\"dataframe\">\n",
       "  <thead>\n",
       "    <tr style=\"text-align: right;\">\n",
       "      <th></th>\n",
       "      <th>name</th>\n",
       "      <th>selling_price</th>\n",
       "      <th>year</th>\n",
       "      <th>seller_type</th>\n",
       "      <th>owner</th>\n",
       "      <th>km_driven</th>\n",
       "      <th>ex_showroom_price</th>\n",
       "    </tr>\n",
       "  </thead>\n",
       "  <tbody>\n",
       "    <tr>\n",
       "      <th>0</th>\n",
       "      <td>Royal Enfield Classic 350</td>\n",
       "      <td>175000</td>\n",
       "      <td>2019</td>\n",
       "      <td>Individual</td>\n",
       "      <td>1st owner</td>\n",
       "      <td>350</td>\n",
       "      <td>NaN</td>\n",
       "    </tr>\n",
       "    <tr>\n",
       "      <th>1</th>\n",
       "      <td>Honda Dio</td>\n",
       "      <td>45000</td>\n",
       "      <td>2017</td>\n",
       "      <td>Individual</td>\n",
       "      <td>1st owner</td>\n",
       "      <td>5650</td>\n",
       "      <td>NaN</td>\n",
       "    </tr>\n",
       "    <tr>\n",
       "      <th>2</th>\n",
       "      <td>Royal Enfield Classic Gunmetal Grey</td>\n",
       "      <td>150000</td>\n",
       "      <td>2018</td>\n",
       "      <td>Individual</td>\n",
       "      <td>1st owner</td>\n",
       "      <td>12000</td>\n",
       "      <td>148114.0</td>\n",
       "    </tr>\n",
       "    <tr>\n",
       "      <th>3</th>\n",
       "      <td>Yamaha Fazer FI V 2.0 [2016-2018]</td>\n",
       "      <td>65000</td>\n",
       "      <td>2015</td>\n",
       "      <td>Individual</td>\n",
       "      <td>1st owner</td>\n",
       "      <td>23000</td>\n",
       "      <td>89643.0</td>\n",
       "    </tr>\n",
       "    <tr>\n",
       "      <th>4</th>\n",
       "      <td>Yamaha SZ [2013-2014]</td>\n",
       "      <td>20000</td>\n",
       "      <td>2011</td>\n",
       "      <td>Individual</td>\n",
       "      <td>2nd owner</td>\n",
       "      <td>21000</td>\n",
       "      <td>NaN</td>\n",
       "    </tr>\n",
       "  </tbody>\n",
       "</table>\n",
       "</div>"
      ],
      "text/plain": [
       "                                  name  selling_price  year seller_type  \\\n",
       "0            Royal Enfield Classic 350         175000  2019  Individual   \n",
       "1                            Honda Dio          45000  2017  Individual   \n",
       "2  Royal Enfield Classic Gunmetal Grey         150000  2018  Individual   \n",
       "3    Yamaha Fazer FI V 2.0 [2016-2018]          65000  2015  Individual   \n",
       "4                Yamaha SZ [2013-2014]          20000  2011  Individual   \n",
       "\n",
       "       owner  km_driven  ex_showroom_price  \n",
       "0  1st owner        350                NaN  \n",
       "1  1st owner       5650                NaN  \n",
       "2  1st owner      12000           148114.0  \n",
       "3  1st owner      23000            89643.0  \n",
       "4  2nd owner      21000                NaN  "
      ]
     },
     "execution_count": 92,
     "metadata": {},
     "output_type": "execute_result"
    }
   ],
   "source": [
    "# Ajustando a coluna para DateTime\n",
    "df['year'] = pd.to_datetime(df['year'], format='%Y')\n",
    "\n",
    "# Recuperando somente o ano da coluna\n",
    "df['year'] = df['year'].dt.year\n",
    "\n",
    "df.head()"
   ]
  },
  {
   "cell_type": "code",
   "execution_count": 93,
   "id": "e2f096d8",
   "metadata": {},
   "outputs": [
    {
     "data": {
      "text/html": [
       "<div>\n",
       "<style scoped>\n",
       "    .dataframe tbody tr th:only-of-type {\n",
       "        vertical-align: middle;\n",
       "    }\n",
       "\n",
       "    .dataframe tbody tr th {\n",
       "        vertical-align: top;\n",
       "    }\n",
       "\n",
       "    .dataframe thead th {\n",
       "        text-align: right;\n",
       "    }\n",
       "</style>\n",
       "<table border=\"1\" class=\"dataframe\">\n",
       "  <thead>\n",
       "    <tr style=\"text-align: right;\">\n",
       "      <th></th>\n",
       "      <th>id</th>\n",
       "      <th>name</th>\n",
       "      <th>selling_price</th>\n",
       "      <th>year</th>\n",
       "      <th>seller_type</th>\n",
       "      <th>owner</th>\n",
       "      <th>km_driven</th>\n",
       "      <th>ex_showroom_price</th>\n",
       "    </tr>\n",
       "  </thead>\n",
       "  <tbody>\n",
       "    <tr>\n",
       "      <th>0</th>\n",
       "      <td>0</td>\n",
       "      <td>Royal Enfield Classic 350</td>\n",
       "      <td>175000</td>\n",
       "      <td>2019</td>\n",
       "      <td>Individual</td>\n",
       "      <td>1st owner</td>\n",
       "      <td>350</td>\n",
       "      <td>NaN</td>\n",
       "    </tr>\n",
       "    <tr>\n",
       "      <th>1</th>\n",
       "      <td>1</td>\n",
       "      <td>Honda Dio</td>\n",
       "      <td>45000</td>\n",
       "      <td>2017</td>\n",
       "      <td>Individual</td>\n",
       "      <td>1st owner</td>\n",
       "      <td>5650</td>\n",
       "      <td>NaN</td>\n",
       "    </tr>\n",
       "    <tr>\n",
       "      <th>2</th>\n",
       "      <td>2</td>\n",
       "      <td>Royal Enfield Classic Gunmetal Grey</td>\n",
       "      <td>150000</td>\n",
       "      <td>2018</td>\n",
       "      <td>Individual</td>\n",
       "      <td>1st owner</td>\n",
       "      <td>12000</td>\n",
       "      <td>148114.0</td>\n",
       "    </tr>\n",
       "    <tr>\n",
       "      <th>3</th>\n",
       "      <td>3</td>\n",
       "      <td>Yamaha Fazer FI V 2.0 [2016-2018]</td>\n",
       "      <td>65000</td>\n",
       "      <td>2015</td>\n",
       "      <td>Individual</td>\n",
       "      <td>1st owner</td>\n",
       "      <td>23000</td>\n",
       "      <td>89643.0</td>\n",
       "    </tr>\n",
       "    <tr>\n",
       "      <th>4</th>\n",
       "      <td>4</td>\n",
       "      <td>Yamaha SZ [2013-2014]</td>\n",
       "      <td>20000</td>\n",
       "      <td>2011</td>\n",
       "      <td>Individual</td>\n",
       "      <td>2nd owner</td>\n",
       "      <td>21000</td>\n",
       "      <td>NaN</td>\n",
       "    </tr>\n",
       "  </tbody>\n",
       "</table>\n",
       "</div>"
      ],
      "text/plain": [
       "   id                                 name  selling_price  year seller_type  \\\n",
       "0   0            Royal Enfield Classic 350         175000  2019  Individual   \n",
       "1   1                            Honda Dio          45000  2017  Individual   \n",
       "2   2  Royal Enfield Classic Gunmetal Grey         150000  2018  Individual   \n",
       "3   3    Yamaha Fazer FI V 2.0 [2016-2018]          65000  2015  Individual   \n",
       "4   4                Yamaha SZ [2013-2014]          20000  2011  Individual   \n",
       "\n",
       "       owner  km_driven  ex_showroom_price  \n",
       "0  1st owner        350                NaN  \n",
       "1  1st owner       5650                NaN  \n",
       "2  1st owner      12000           148114.0  \n",
       "3  1st owner      23000            89643.0  \n",
       "4  2nd owner      21000                NaN  "
      ]
     },
     "execution_count": 93,
     "metadata": {},
     "output_type": "execute_result"
    }
   ],
   "source": [
    "# Criando a coluna index para registrarmos\n",
    "df = df.reset_index()\n",
    "df = df.rename(columns={'index': 'id'})\n",
    "df.head()"
   ]
  },
  {
   "cell_type": "code",
   "execution_count": 94,
   "id": "53741425",
   "metadata": {},
   "outputs": [
    {
     "data": {
      "text/html": [
       "<div>\n",
       "<style scoped>\n",
       "    .dataframe tbody tr th:only-of-type {\n",
       "        vertical-align: middle;\n",
       "    }\n",
       "\n",
       "    .dataframe tbody tr th {\n",
       "        vertical-align: top;\n",
       "    }\n",
       "\n",
       "    .dataframe thead th {\n",
       "        text-align: right;\n",
       "    }\n",
       "</style>\n",
       "<table border=\"1\" class=\"dataframe\">\n",
       "  <thead>\n",
       "    <tr style=\"text-align: right;\">\n",
       "      <th></th>\n",
       "      <th>id</th>\n",
       "      <th>name</th>\n",
       "      <th>selling_price</th>\n",
       "      <th>year</th>\n",
       "      <th>seller_type</th>\n",
       "      <th>owner</th>\n",
       "      <th>km_driven</th>\n",
       "      <th>ex_showroom_price</th>\n",
       "    </tr>\n",
       "  </thead>\n",
       "  <tbody>\n",
       "    <tr>\n",
       "      <th>0</th>\n",
       "      <td>0</td>\n",
       "      <td>Royal Enfield Classic 350</td>\n",
       "      <td>175000.0</td>\n",
       "      <td>2019</td>\n",
       "      <td>Individual</td>\n",
       "      <td>1st owner</td>\n",
       "      <td>350</td>\n",
       "      <td>NaN</td>\n",
       "    </tr>\n",
       "    <tr>\n",
       "      <th>1</th>\n",
       "      <td>1</td>\n",
       "      <td>Honda Dio</td>\n",
       "      <td>45000.0</td>\n",
       "      <td>2017</td>\n",
       "      <td>Individual</td>\n",
       "      <td>1st owner</td>\n",
       "      <td>5650</td>\n",
       "      <td>NaN</td>\n",
       "    </tr>\n",
       "    <tr>\n",
       "      <th>2</th>\n",
       "      <td>2</td>\n",
       "      <td>Royal Enfield Classic Gunmetal Grey</td>\n",
       "      <td>150000.0</td>\n",
       "      <td>2018</td>\n",
       "      <td>Individual</td>\n",
       "      <td>1st owner</td>\n",
       "      <td>12000</td>\n",
       "      <td>148114.0</td>\n",
       "    </tr>\n",
       "    <tr>\n",
       "      <th>3</th>\n",
       "      <td>3</td>\n",
       "      <td>Yamaha Fazer FI V 2.0 [2016-2018]</td>\n",
       "      <td>65000.0</td>\n",
       "      <td>2015</td>\n",
       "      <td>Individual</td>\n",
       "      <td>1st owner</td>\n",
       "      <td>23000</td>\n",
       "      <td>89643.0</td>\n",
       "    </tr>\n",
       "    <tr>\n",
       "      <th>4</th>\n",
       "      <td>4</td>\n",
       "      <td>Yamaha SZ [2013-2014]</td>\n",
       "      <td>20000.0</td>\n",
       "      <td>2011</td>\n",
       "      <td>Individual</td>\n",
       "      <td>2nd owner</td>\n",
       "      <td>21000</td>\n",
       "      <td>NaN</td>\n",
       "    </tr>\n",
       "  </tbody>\n",
       "</table>\n",
       "</div>"
      ],
      "text/plain": [
       "   id                                 name  selling_price  year seller_type  \\\n",
       "0   0            Royal Enfield Classic 350       175000.0  2019  Individual   \n",
       "1   1                            Honda Dio        45000.0  2017  Individual   \n",
       "2   2  Royal Enfield Classic Gunmetal Grey       150000.0  2018  Individual   \n",
       "3   3    Yamaha Fazer FI V 2.0 [2016-2018]        65000.0  2015  Individual   \n",
       "4   4                Yamaha SZ [2013-2014]        20000.0  2011  Individual   \n",
       "\n",
       "       owner  km_driven  ex_showroom_price  \n",
       "0  1st owner        350                NaN  \n",
       "1  1st owner       5650                NaN  \n",
       "2  1st owner      12000           148114.0  \n",
       "3  1st owner      23000            89643.0  \n",
       "4  2nd owner      21000                NaN  "
      ]
     },
     "execution_count": 94,
     "metadata": {},
     "output_type": "execute_result"
    }
   ],
   "source": [
    "# Deixando a coluna ex_showroom_price e selling_price na mesma grandeza\n",
    "df['selling_price'] = df['selling_price'].astype(float)\n",
    "df.head()"
   ]
  },
  {
   "cell_type": "markdown",
   "id": "04814d28",
   "metadata": {},
   "source": [
    "### Perguntas e respostas"
   ]
  },
  {
   "cell_type": "code",
   "execution_count": 95,
   "id": "71e4b805",
   "metadata": {},
   "outputs": [
    {
     "name": "stdout",
     "output_type": "stream",
     "text": [
      "A quantidade de motos registradas no Dataset é de 1061 motos\n"
     ]
    }
   ],
   "source": [
    "# 1.Quantas motos temos dentro do DataSet?\n",
    "# R: A QTD de motos é a quntidade de linhas que temos dentro do dataset\n",
    "\n",
    "print(f'A quantidade de motos registradas no Dataset é de {df.shape[0]} motos')"
   ]
  },
  {
   "cell_type": "code",
   "execution_count": 96,
   "id": "c1ac2d81",
   "metadata": {},
   "outputs": [
    {
     "data": {
      "text/plain": [
       "1988"
      ]
     },
     "execution_count": 96,
     "metadata": {},
     "output_type": "execute_result"
    }
   ],
   "source": [
    "# 2. Qual é o ano da moto mais antiga da base de dados ?\n",
    "# R: Basta verificarmos qual o menor valor da coluna 'year da base de dados'\n",
    "\n",
    "antiga = df[df['year'] == df['year'].min()].iloc[0,3]\n",
    "antiga"
   ]
  },
  {
   "cell_type": "code",
   "execution_count": 97,
   "id": "58298912",
   "metadata": {},
   "outputs": [
    {
     "data": {
      "text/plain": [
       "1988"
      ]
     },
     "execution_count": 97,
     "metadata": {},
     "output_type": "execute_result"
    }
   ],
   "source": [
    "# 3. Qual é o ano da moto mais nova da base de dados ?\n",
    "# R: Basta verificar qual é o menor valor da coluna 'year'\n",
    "\n",
    "nova = df[df['year'] == df['year'].min()].iloc[0, 3]\n",
    "nova"
   ]
  },
  {
   "cell_type": "code",
   "execution_count": 98,
   "id": "d67dea73",
   "metadata": {},
   "outputs": [
    {
     "name": "stdout",
     "output_type": "stream",
     "text": [
      " A moto mais cara da base de dados é de U$$ 760000.00\n"
     ]
    }
   ],
   "source": [
    "# 4. Qual é o valor da moto mais cara da base de dados ?\n",
    "# R: Basta verificar qual é o maior valor da coluna 'selling_price'\n",
    "\n",
    "cara = df[df['selling_price'] == df['selling_price'].max()].iloc[0, 2]\n",
    "#cara\n",
    "\n",
    "print(f' A moto mais cara da base de dados é de U$$ {cara:.2f}')"
   ]
  },
  {
   "cell_type": "code",
   "execution_count": 99,
   "id": "07c8d79c",
   "metadata": {},
   "outputs": [
    {
     "name": "stdout",
     "output_type": "stream",
     "text": [
      "A moto que possui a maior quilometragem da base de dados andou 880000 Km\n"
     ]
    }
   ],
   "source": [
    "# 5. Qual é o valor do hodômotro da moto m=com a maior quilometragem ?\n",
    "# R: Basta verificarmos qual é o maior valor da coluna km_driven\n",
    "\n",
    "maior_km = df[df['km_driven'] == df['km_driven'].max()].iloc[0, 6]\n",
    "#maior_km\n",
    "\n",
    "print(f'A moto que possui a maior quilometragem da base de dados andou {maior_km} Km')"
   ]
  },
  {
   "cell_type": "code",
   "execution_count": 100,
   "id": "fb48a902",
   "metadata": {},
   "outputs": [
    {
     "name": "stdout",
     "output_type": "stream",
     "text": [
      "A moto que possui a menor quilometragem da base de dados andou 350 Km\n"
     ]
    }
   ],
   "source": [
    "# 6. qual é o valor do hodômetro com a  menor quilometragem ?\n",
    "# R: Basta verificarmos qual é o menor valor da coluna km_driven\n",
    "\n",
    "menor_km = df[df['km_driven'] == df['km_driven'].min()].iloc[0, 6]\n",
    "# menor_km\n",
    "\n",
    "print(f'A moto que possui a menor quilometragem da base de dados andou {menor_km} Km')"
   ]
  },
  {
   "cell_type": "code",
   "execution_count": 101,
   "id": "0d62f79a",
   "metadata": {},
   "outputs": [
    {
     "name": "stdout",
     "output_type": "stream",
     "text": [
      "O maior valor da moto sem as taxas de registro e seguro é de U$$ 1278000.00\n"
     ]
    }
   ],
   "source": [
    "# 7. Dos valores das motos que possuem o valor de venda sem as taxas de registro e seguro, qual seria o \n",
    "# maior registrado na base de dados ?\n",
    "# R: Basta verificarmos qual é o maior valor registrado na coluna 'ex_showroom_price'\n",
    "\n",
    "ex_cara = df[df['ex_showroom_price'] == df['ex_showroom_price'].max()].iloc[0, -1]\n",
    "#ex_cara\n",
    "\n",
    "print(f'O maior valor da moto sem as taxas de registro e seguro é de U$$ {ex_cara:.2f}')"
   ]
  },
  {
   "cell_type": "code",
   "execution_count": 102,
   "id": "f8ea1d6b",
   "metadata": {},
   "outputs": [
    {
     "name": "stdout",
     "output_type": "stream",
     "text": [
      "O maior valor da moto sem as taxas de registro e seguro é de U$$ 30490.00\n"
     ]
    }
   ],
   "source": [
    "# 8. Dos valores das motos que possuem o valor de venda sem as taxas de registro e seguro, qual seria o \n",
    "# menor registrado na base de dados ?\n",
    "\n",
    "# R: Basta verificarmos qual é o menor valor registrado na coluna 'ex_showroom_price'\n",
    "\n",
    "ex_barata = df[df['ex_showroom_price'] == df['ex_showroom_price'].min()].iloc[0, -1]\n",
    "#ex_barata\n",
    "\n",
    "print(f'O maior valor da moto sem as taxas de registro e seguro é de U$$ {ex_barata:.2f}')"
   ]
  },
  {
   "cell_type": "code",
   "execution_count": 103,
   "id": "12aa9e97",
   "metadata": {},
   "outputs": [
    {
     "data": {
      "text/html": [
       "<div>\n",
       "<style scoped>\n",
       "    .dataframe tbody tr th:only-of-type {\n",
       "        vertical-align: middle;\n",
       "    }\n",
       "\n",
       "    .dataframe tbody tr th {\n",
       "        vertical-align: top;\n",
       "    }\n",
       "\n",
       "    .dataframe thead th {\n",
       "        text-align: right;\n",
       "    }\n",
       "</style>\n",
       "<table border=\"1\" class=\"dataframe\">\n",
       "  <thead>\n",
       "    <tr style=\"text-align: right;\">\n",
       "      <th></th>\n",
       "      <th>seller_type</th>\n",
       "      <th>count</th>\n",
       "    </tr>\n",
       "  </thead>\n",
       "  <tbody>\n",
       "    <tr>\n",
       "      <th>0</th>\n",
       "      <td>Dealer</td>\n",
       "      <td>6</td>\n",
       "    </tr>\n",
       "    <tr>\n",
       "      <th>1</th>\n",
       "      <td>Individual</td>\n",
       "      <td>1055</td>\n",
       "    </tr>\n",
       "  </tbody>\n",
       "</table>\n",
       "</div>"
      ],
      "text/plain": [
       "  seller_type  count\n",
       "0      Dealer      6\n",
       "1  Individual   1055"
      ]
     },
     "execution_count": 103,
     "metadata": {},
     "output_type": "execute_result"
    }
   ],
   "source": [
    "# 9.quantas motocicletas estão vendidas pelos seus donos e quantas estão sendo vendidas por outros revendedores ?\n",
    "\n",
    "# R: Temos que contar quantas linhas possuem a coluna 'seller_type' preenchida com o conteúdo 'individual'\n",
    "# e quantas estão preenchidas com o conteúdo 'dealer'. \n",
    "# Uma das maneiras de fazermos esse cálculo é agrupar os dados pela coluna 'seller_type', e depois\n",
    "# realizar uma contagem nos dados\n",
    "\n",
    "df_grouped = df[['id', 'seller_type']].groupby('seller_type')\n",
    "df_grouped = df_grouped.count().reset_index()\n",
    "df_grouped = df_grouped.rename(columns={'id': 'count'})\n",
    "df_grouped"
   ]
  },
  {
   "cell_type": "code",
   "execution_count": 104,
   "id": "c9484dcb",
   "metadata": {},
   "outputs": [
    {
     "name": "stdout",
     "output_type": "stream",
     "text": [
      "Dessa forma, temos 6 motos sendo vendidas por revendedores\n",
      "E temos 1055 motos sendo vendidas por seus donos\n"
     ]
    }
   ],
   "source": [
    "print(f'Dessa forma, temos {df_grouped.loc[0, \"count\"]} motos sendo vendidas por revendedores')\n",
    "print(f'E temos {df_grouped.loc[1, \"count\"]} motos sendo vendidas por seus donos')"
   ]
  },
  {
   "cell_type": "code",
   "execution_count": 105,
   "id": "9386889e",
   "metadata": {},
   "outputs": [
    {
     "name": "stdout",
     "output_type": "stream",
     "text": [
      "o valor da média do preço de venda de motos é de U$$ 59638.15\n"
     ]
    }
   ],
   "source": [
    "# 10. Qual é a média de valores das motos na base me dados ?\n",
    "\n",
    "# R: Basta calcularmos a média dos valores da coluna 'selling_price'.\n",
    "# Uma maneira de realiza esse cálculo é selecionar os dados da coluna 'selling_price' e utilizar a função 'mean()'\n",
    "\n",
    "media = df['selling_price'].mean()\n",
    "#media\n",
    "\n",
    "print(f'o valor da média do preço de venda de motos é de U$$ {media:.2f}')"
   ]
  },
  {
   "cell_type": "code",
   "execution_count": 106,
   "id": "63553409",
   "metadata": {},
   "outputs": [
    {
     "name": "stdout",
     "output_type": "stream",
     "text": [
      "a média dos anos das motos da base de dados é 2013.87 !\n"
     ]
    }
   ],
   "source": [
    "# 11. Qual é a média de ano das motos cadastradas dentro da base de dados?\n",
    "# R: Basta calcularmos os valores que estão na coluna 'year'\n",
    "\n",
    "media_y = df['year'].mean()\n",
    "#media_y\n",
    "\n",
    "print(f'a média dos anos das motos da base de dados é {media_y:.2f} !')"
   ]
  },
  {
   "cell_type": "code",
   "execution_count": 107,
   "id": "eaeb9e3d",
   "metadata": {},
   "outputs": [
    {
     "name": "stdout",
     "output_type": "stream",
     "text": [
      "A média de quilometros percorridos das motos da base de dados é de 34359.83\n"
     ]
    }
   ],
   "source": [
    "# 12. Qual é a média de quilometragem das motos cadastradas dentro da base de dados ?\n",
    "# R: Basta calcularmos a média dos valores da coluna 'km_driven'\n",
    "\n",
    "media_km = df['km_driven'].mean()\n",
    "# media_km\n",
    "\n",
    "print(f'A média de quilometros percorridos das motos da base de dados é de {media_km:.2f}')"
   ]
  },
  {
   "cell_type": "code",
   "execution_count": 108,
   "id": "05f8ca64",
   "metadata": {},
   "outputs": [
    {
     "name": "stdout",
     "output_type": "stream",
     "text": [
      "A base de dados possui 924 motos de um único dono.\n"
     ]
    }
   ],
   "source": [
    "# 13. Existem quantas motos dentro da base de dados que são motos de um único dono ?\n",
    "# R: Selecionamos as linhas que possuem a coluna 'owner' igual '1st owner' e depois fazer a contagem da qtd de linhas\n",
    "\n",
    "# var        df df coluna   ==  dados col   fazendo contagem pela coluna 'id', que está no shape 0\n",
    "unico_dono = df[df['owner'] == '1st owner'].shape[0]\n",
    "# unico_dono\n",
    "\n",
    "print(f'A base de dados possui {unico_dono} motos de um único dono.')"
   ]
  },
  {
   "cell_type": "code",
   "execution_count": 109,
   "id": "b0c3069c",
   "metadata": {},
   "outputs": [
    {
     "data": {
      "text/html": [
       "<div>\n",
       "<style scoped>\n",
       "    .dataframe tbody tr th:only-of-type {\n",
       "        vertical-align: middle;\n",
       "    }\n",
       "\n",
       "    .dataframe tbody tr th {\n",
       "        vertical-align: top;\n",
       "    }\n",
       "\n",
       "    .dataframe thead th {\n",
       "        text-align: right;\n",
       "    }\n",
       "</style>\n",
       "<table border=\"1\" class=\"dataframe\">\n",
       "  <thead>\n",
       "    <tr style=\"text-align: right;\">\n",
       "      <th></th>\n",
       "      <th>id</th>\n",
       "      <th>name</th>\n",
       "      <th>selling_price</th>\n",
       "      <th>year</th>\n",
       "      <th>seller_type</th>\n",
       "      <th>owner</th>\n",
       "      <th>km_driven</th>\n",
       "      <th>ex_showroom_price</th>\n",
       "    </tr>\n",
       "  </thead>\n",
       "  <tbody>\n",
       "    <tr>\n",
       "      <th>0</th>\n",
       "      <td>0</td>\n",
       "      <td>Royal Enfield Classic 350</td>\n",
       "      <td>175000.0</td>\n",
       "      <td>2019</td>\n",
       "      <td>Individual</td>\n",
       "      <td>1st owner</td>\n",
       "      <td>350</td>\n",
       "      <td>NaN</td>\n",
       "    </tr>\n",
       "    <tr>\n",
       "      <th>1</th>\n",
       "      <td>1</td>\n",
       "      <td>Honda Dio</td>\n",
       "      <td>45000.0</td>\n",
       "      <td>2017</td>\n",
       "      <td>Individual</td>\n",
       "      <td>1st owner</td>\n",
       "      <td>5650</td>\n",
       "      <td>NaN</td>\n",
       "    </tr>\n",
       "    <tr>\n",
       "      <th>2</th>\n",
       "      <td>2</td>\n",
       "      <td>Royal Enfield Classic Gunmetal Grey</td>\n",
       "      <td>150000.0</td>\n",
       "      <td>2018</td>\n",
       "      <td>Individual</td>\n",
       "      <td>1st owner</td>\n",
       "      <td>12000</td>\n",
       "      <td>148114.0</td>\n",
       "    </tr>\n",
       "    <tr>\n",
       "      <th>3</th>\n",
       "      <td>3</td>\n",
       "      <td>Yamaha Fazer FI V 2.0 [2016-2018]</td>\n",
       "      <td>65000.0</td>\n",
       "      <td>2015</td>\n",
       "      <td>Individual</td>\n",
       "      <td>1st owner</td>\n",
       "      <td>23000</td>\n",
       "      <td>89643.0</td>\n",
       "    </tr>\n",
       "    <tr>\n",
       "      <th>4</th>\n",
       "      <td>4</td>\n",
       "      <td>Yamaha SZ [2013-2014]</td>\n",
       "      <td>20000.0</td>\n",
       "      <td>2011</td>\n",
       "      <td>Individual</td>\n",
       "      <td>2nd owner</td>\n",
       "      <td>21000</td>\n",
       "      <td>NaN</td>\n",
       "    </tr>\n",
       "  </tbody>\n",
       "</table>\n",
       "</div>"
      ],
      "text/plain": [
       "   id                                 name  selling_price  year seller_type  \\\n",
       "0   0            Royal Enfield Classic 350       175000.0  2019  Individual   \n",
       "1   1                            Honda Dio        45000.0  2017  Individual   \n",
       "2   2  Royal Enfield Classic Gunmetal Grey       150000.0  2018  Individual   \n",
       "3   3    Yamaha Fazer FI V 2.0 [2016-2018]        65000.0  2015  Individual   \n",
       "4   4                Yamaha SZ [2013-2014]        20000.0  2011  Individual   \n",
       "\n",
       "       owner  km_driven  ex_showroom_price  \n",
       "0  1st owner        350                NaN  \n",
       "1  1st owner       5650                NaN  \n",
       "2  1st owner      12000           148114.0  \n",
       "3  1st owner      23000            89643.0  \n",
       "4  2nd owner      21000                NaN  "
      ]
     },
     "execution_count": 109,
     "metadata": {},
     "output_type": "execute_result"
    }
   ],
   "source": [
    "# 14. As motos com maior quilometragem são as motos mais baratas do dataset?\n",
    "\n",
    "# R: Aqui a ideia será categorizar as motos conforme a quantidade de quilometros percorridos.\n",
    "# A cada 5 mil quilômetros será criada uma nova categoria.\n",
    "# E depois, iremos agrupar as categorias e tirar a média de cada categoria, para verificarmos \n",
    "# qual é a categoria que tem a menor média de valor.\n",
    "\n",
    "df.head()"
   ]
  },
  {
   "cell_type": "code",
   "execution_count": 110,
   "id": "fd27acb3",
   "metadata": {},
   "outputs": [],
   "source": [
    "# Função que criará as classes \n",
    "def create_km_class(km_driven):\n",
    "    #cria a categoria a cada 5 mil Km percorridos\n",
    "    return math.ceil(km_driven / 5000)"
   ]
  },
  {
   "cell_type": "code",
   "execution_count": 111,
   "id": "e32e4042",
   "metadata": {},
   "outputs": [
    {
     "data": {
      "text/html": [
       "<div>\n",
       "<style scoped>\n",
       "    .dataframe tbody tr th:only-of-type {\n",
       "        vertical-align: middle;\n",
       "    }\n",
       "\n",
       "    .dataframe tbody tr th {\n",
       "        vertical-align: top;\n",
       "    }\n",
       "\n",
       "    .dataframe thead th {\n",
       "        text-align: right;\n",
       "    }\n",
       "</style>\n",
       "<table border=\"1\" class=\"dataframe\">\n",
       "  <thead>\n",
       "    <tr style=\"text-align: right;\">\n",
       "      <th></th>\n",
       "      <th>id</th>\n",
       "      <th>name</th>\n",
       "      <th>selling_price</th>\n",
       "      <th>year</th>\n",
       "      <th>seller_type</th>\n",
       "      <th>owner</th>\n",
       "      <th>km_driven</th>\n",
       "      <th>ex_showroom_price</th>\n",
       "      <th>km_class</th>\n",
       "    </tr>\n",
       "  </thead>\n",
       "  <tbody>\n",
       "    <tr>\n",
       "      <th>0</th>\n",
       "      <td>0</td>\n",
       "      <td>Royal Enfield Classic 350</td>\n",
       "      <td>175000.0</td>\n",
       "      <td>2019</td>\n",
       "      <td>Individual</td>\n",
       "      <td>1st owner</td>\n",
       "      <td>350</td>\n",
       "      <td>NaN</td>\n",
       "      <td>1</td>\n",
       "    </tr>\n",
       "    <tr>\n",
       "      <th>1</th>\n",
       "      <td>1</td>\n",
       "      <td>Honda Dio</td>\n",
       "      <td>45000.0</td>\n",
       "      <td>2017</td>\n",
       "      <td>Individual</td>\n",
       "      <td>1st owner</td>\n",
       "      <td>5650</td>\n",
       "      <td>NaN</td>\n",
       "      <td>2</td>\n",
       "    </tr>\n",
       "    <tr>\n",
       "      <th>2</th>\n",
       "      <td>2</td>\n",
       "      <td>Royal Enfield Classic Gunmetal Grey</td>\n",
       "      <td>150000.0</td>\n",
       "      <td>2018</td>\n",
       "      <td>Individual</td>\n",
       "      <td>1st owner</td>\n",
       "      <td>12000</td>\n",
       "      <td>148114.0</td>\n",
       "      <td>3</td>\n",
       "    </tr>\n",
       "    <tr>\n",
       "      <th>3</th>\n",
       "      <td>3</td>\n",
       "      <td>Yamaha Fazer FI V 2.0 [2016-2018]</td>\n",
       "      <td>65000.0</td>\n",
       "      <td>2015</td>\n",
       "      <td>Individual</td>\n",
       "      <td>1st owner</td>\n",
       "      <td>23000</td>\n",
       "      <td>89643.0</td>\n",
       "      <td>5</td>\n",
       "    </tr>\n",
       "    <tr>\n",
       "      <th>4</th>\n",
       "      <td>4</td>\n",
       "      <td>Yamaha SZ [2013-2014]</td>\n",
       "      <td>20000.0</td>\n",
       "      <td>2011</td>\n",
       "      <td>Individual</td>\n",
       "      <td>2nd owner</td>\n",
       "      <td>21000</td>\n",
       "      <td>NaN</td>\n",
       "      <td>5</td>\n",
       "    </tr>\n",
       "  </tbody>\n",
       "</table>\n",
       "</div>"
      ],
      "text/plain": [
       "   id                                 name  selling_price  year seller_type  \\\n",
       "0   0            Royal Enfield Classic 350       175000.0  2019  Individual   \n",
       "1   1                            Honda Dio        45000.0  2017  Individual   \n",
       "2   2  Royal Enfield Classic Gunmetal Grey       150000.0  2018  Individual   \n",
       "3   3    Yamaha Fazer FI V 2.0 [2016-2018]        65000.0  2015  Individual   \n",
       "4   4                Yamaha SZ [2013-2014]        20000.0  2011  Individual   \n",
       "\n",
       "       owner  km_driven  ex_showroom_price  km_class  \n",
       "0  1st owner        350                NaN         1  \n",
       "1  1st owner       5650                NaN         2  \n",
       "2  1st owner      12000           148114.0         3  \n",
       "3  1st owner      23000            89643.0         5  \n",
       "4  2nd owner      21000                NaN         5  "
      ]
     },
     "execution_count": 111,
     "metadata": {},
     "output_type": "execute_result"
    }
   ],
   "source": [
    "# Aplica a classificação das motocicletas \n",
    "df['km_class'] = df['km_driven'].apply( lambda km_driven: create_km_class(km_driven) )\n",
    "df.head()"
   ]
  },
  {
   "cell_type": "code",
   "execution_count": 112,
   "id": "3d78078b",
   "metadata": {},
   "outputs": [
    {
     "data": {
      "text/plain": [
       "32"
      ]
     },
     "execution_count": 112,
     "metadata": {},
     "output_type": "execute_result"
    }
   ],
   "source": [
    "len(df['km_class'].unique())"
   ]
  },
  {
   "cell_type": "code",
   "execution_count": 113,
   "id": "b59cb0d2",
   "metadata": {},
   "outputs": [
    {
     "data": {
      "text/html": [
       "<div>\n",
       "<style scoped>\n",
       "    .dataframe tbody tr th:only-of-type {\n",
       "        vertical-align: middle;\n",
       "    }\n",
       "\n",
       "    .dataframe tbody tr th {\n",
       "        vertical-align: top;\n",
       "    }\n",
       "\n",
       "    .dataframe thead th {\n",
       "        text-align: right;\n",
       "    }\n",
       "</style>\n",
       "<table border=\"1\" class=\"dataframe\">\n",
       "  <thead>\n",
       "    <tr style=\"text-align: right;\">\n",
       "      <th></th>\n",
       "      <th>km_class</th>\n",
       "      <th>selling_price</th>\n",
       "    </tr>\n",
       "  </thead>\n",
       "  <tbody>\n",
       "    <tr>\n",
       "      <th>0</th>\n",
       "      <td>130</td>\n",
       "      <td>10000.0</td>\n",
       "    </tr>\n",
       "    <tr>\n",
       "      <th>1</th>\n",
       "      <td>176</td>\n",
       "      <td>15000.0</td>\n",
       "    </tr>\n",
       "    <tr>\n",
       "      <th>2</th>\n",
       "      <td>24</td>\n",
       "      <td>16250.0</td>\n",
       "    </tr>\n",
       "    <tr>\n",
       "      <th>3</th>\n",
       "      <td>100</td>\n",
       "      <td>19994.5</td>\n",
       "    </tr>\n",
       "    <tr>\n",
       "      <th>4</th>\n",
       "      <td>18</td>\n",
       "      <td>20400.0</td>\n",
       "    </tr>\n",
       "  </tbody>\n",
       "</table>\n",
       "</div>"
      ],
      "text/plain": [
       "   km_class  selling_price\n",
       "0       130        10000.0\n",
       "1       176        15000.0\n",
       "2        24        16250.0\n",
       "3       100        19994.5\n",
       "4        18        20400.0"
      ]
     },
     "execution_count": 113,
     "metadata": {},
     "output_type": "execute_result"
    }
   ],
   "source": [
    "df_grouped = df[['km_class', 'selling_price']].groupby('km_class')\n",
    "df_grouped = df_grouped.mean().sort_values('selling_price').reset_index()\n",
    "df_grouped.head()"
   ]
  },
  {
   "cell_type": "markdown",
   "id": "1cf2c83d",
   "metadata": {},
   "source": [
    "Como podemos observar, as motos com a maior quilometragem não são as mais baratas na média.\n",
    "Visto que a maior classificação com relação à quilometragem percorrida é 177."
   ]
  },
  {
   "cell_type": "code",
   "execution_count": 114,
   "id": "49df24ac",
   "metadata": {},
   "outputs": [],
   "source": [
    "# Salvando Dataset\n",
    "# df.to_csv('C:\\\\Users\\\\mlsil\\\\OneDrive\\\\Documentos\\\\repos\\\\fundamentos_programacao\\\\BIKE DETAILS CLEAR.csv', index=False)"
   ]
  },
  {
   "cell_type": "code",
   "execution_count": null,
   "id": "b2742564",
   "metadata": {},
   "outputs": [],
   "source": []
  },
  {
   "cell_type": "code",
   "execution_count": null,
   "id": "d65ad942",
   "metadata": {},
   "outputs": [],
   "source": []
  }
 ],
 "metadata": {
  "kernelspec": {
   "display_name": "Python 3 (ipykernel)",
   "language": "python",
   "name": "python3"
  },
  "language_info": {
   "codemirror_mode": {
    "name": "ipython",
    "version": 3
   },
   "file_extension": ".py",
   "mimetype": "text/x-python",
   "name": "python",
   "nbconvert_exporter": "python",
   "pygments_lexer": "ipython3",
   "version": "3.9.12"
  }
 },
 "nbformat": 4,
 "nbformat_minor": 5
}
