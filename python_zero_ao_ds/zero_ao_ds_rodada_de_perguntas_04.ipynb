{
 "cells": [
  {
   "cell_type": "markdown",
   "id": "7faa1904",
   "metadata": {},
   "source": [
    "### Novas perguntas do CEO para vocês\n"
   ]
  },
  {
   "cell_type": "markdown",
   "id": "ca899477",
   "metadata": {},
   "source": [
    "\n",
    "1. Qual a média do preço de compra dos imóveis por “Nível”? \n",
    "- Nível 0 -> Preço entre `R$ 0 e R$ 321.950` \n",
    "- Nível 1 -> Preço entre `R$ 321.950 e R$ 450.000`\n",
    "- Nível 2 -> Preço entre `R$450.000 e R$ 645.000`\n",
    "- Nível 3 -> Acima de `R$ 645.000`\n",
    "\n",
    "2. Qual a média do tamanho da sala de estar dos imóveis por “Size” ? \n",
    "- Size 0 -> Tamanho entre 0 e 1427 sqft \n",
    "- Size 1 -> Tamanho entre 1427 e 1910 sqft \n",
    "- Size 2 -> Tamanho entre 1910 e 2550 sqft \n",
    "- Size 3 -> Tamanho acima de 2550 sqft\n",
    "\n",
    "3. Adicione as seguinte informações ao conjunto de dados original: \n",
    "- Place ID: Identificação da localização \n",
    "- OSM Type: Open Street Map type - Country: Nome do País \n",
    "- Country Code: Código do País\n",
    "\n",
    "4. Adicione os seguinte filtros no Mapa: \n",
    "- Tamanho mínimo da área da sala de estar. \n",
    "- Número mínimo de banheiros. \n",
    "- Valor Máximo do Preço. \n",
    "- Tamanho máximo da área do porão. \n",
    "- Filtro das Condições do Imóvel. \n",
    "- Filtro por Ano de Construção.\n",
    "\n",
    "5. Adicione os seguinte filtros no Dashboard: \n",
    "- Filtro por data disponível para compra. \n",
    "- Filtro por ano de renovação. \n",
    "- Filtro se possui vista para a água ou não."
   ]
  },
  {
   "cell_type": "code",
   "execution_count": 1,
   "id": "d5af365a",
   "metadata": {},
   "outputs": [],
   "source": [
    "# Bibliotecas\n",
    "import numpy as np\n",
    "import pandas as pd\n",
    "import time\n",
    "import ipywidgets as widgets\n",
    "import plotly.express as px\n",
    "import seaborn as sns\n",
    "\n",
    "from matplotlib import pyplot as plt\n",
    "from matplotlib import gridspec\n",
    "from ipywidgets import interact, interactive, fixed, interact_manual\n",
    "from geopy.geocoders import Nominatim\n",
    "from multiprocessing import Pool"
   ]
  },
  {
   "cell_type": "code",
   "execution_count": 2,
   "id": "acd23c0d",
   "metadata": {},
   "outputs": [],
   "source": [
    "# Carregando dados\n",
    "data = pd.read_csv(r'C:\\Users\\mlsil\\OneDrive\\Documentos\\repos\\python_zero_ao_ds\\csv\\kc_house_data.csv')"
   ]
  },
  {
   "cell_type": "markdown",
   "id": "2d6cadbe",
   "metadata": {},
   "source": [
    "#### 1. Qual a média do preço de compra dos imóveis por “Nível”?\n",
    "- Nível 0 -> Preço entre `R$ 0 e R$ 321.950`\n",
    "- Nível 1 -> Preço entre `R$ 321.950 e R$ 450.000`\n",
    "- Nível 2 -> Preço entre `R$ 450.000 e R$ 645.000`\n",
    "- Nível 3 -> Acima de `R$ 645.000`"
   ]
  },
  {
   "cell_type": "code",
   "execution_count": 3,
   "id": "d7e2b092",
   "metadata": {},
   "outputs": [],
   "source": [
    "data['level'] = data['price'].apply(lambda x: 'lv00' if (x >= 0) & (x <= 321950) else\n",
    "                                              'lv01' if (x > 321950) & (x <= 450000) else\n",
    "                                              'lv02' if (x > 450000) & (x <= 645000) else 'lv03')"
   ]
  },
  {
   "cell_type": "code",
   "execution_count": 4,
   "id": "224d9d83",
   "metadata": {},
   "outputs": [],
   "source": [
    "#data.head()"
   ]
  },
  {
   "cell_type": "markdown",
   "id": "394945bb",
   "metadata": {},
   "source": [
    "#### 2. Qual a média do tamanho da sala de estar dos imóveis por “Size” ?\n",
    "- Size 0 -> Tamanho entre 0 e 1427 sqft\n",
    "- Size 1 -> Tamanho entre 1427 e 1910 sqft\n",
    "- Size 2 -> Tamanho entre 1910 e 2550 sqft\n",
    "- Size 3 -> Tamanho acima de 2550 sqft"
   ]
  },
  {
   "cell_type": "code",
   "execution_count": 5,
   "id": "9ea12069",
   "metadata": {},
   "outputs": [],
   "source": [
    "data['size'] = data['sqft_living'].apply(lambda x: 's00' if (x >= 0) & (x <= 1427) else\n",
    "                                                   's01' if (x > 1427) & (x <= 1910) else\n",
    "                                                   's02' if (x > 1910) & (x <= 2550) else 's03')"
   ]
  },
  {
   "cell_type": "code",
   "execution_count": 6,
   "id": "a868257d",
   "metadata": {},
   "outputs": [],
   "source": [
    "#data.head()"
   ]
  },
  {
   "cell_type": "markdown",
   "id": "b353bcf2",
   "metadata": {},
   "source": [
    "#### 3. Adicione as seguinte informações ao conjunto de dados original:\n",
    "- Place ID: Identificação da localização\n",
    "- OSM Type: Open Street Map type\n",
    "- Country: Nome do País\n",
    "- Country Code: Código do País"
   ]
  },
  {
   "cell_type": "code",
   "execution_count": 7,
   "id": "bb835fdd",
   "metadata": {},
   "outputs": [],
   "source": [
    "# Bibliotecas: 'geocoders' / 'time' / 'Pool'\n",
    "geolocator = Nominatim(user_agent='geopyExercises')\n",
    "\n",
    "query = '47.5112, -122.257'\n",
    "response = geolocator.reverse(query)"
   ]
  },
  {
   "cell_type": "code",
   "execution_count": 8,
   "id": "db23614f",
   "metadata": {},
   "outputs": [],
   "source": [
    "# Criando nova coluna para a concatenação de 'lat' e 'long'\n",
    "data['query'] = data[['lat', 'long']].apply( lambda x: str(x['lat']) + ',' + str(x['long']), axis=1)"
   ]
  },
  {
   "cell_type": "code",
   "execution_count": 9,
   "id": "3b775e17",
   "metadata": {},
   "outputs": [],
   "source": [
    "# import time\n",
    "# from geopy.geocoders import Nominatim\n",
    "\n",
    "# geolocator = Nominatim(user_agent='geopyExercises')\n",
    "\n",
    "# def get_data( x ):\n",
    "#     index, row = x\n",
    "#     time.sleep( 1 )\n",
    "    \n",
    "#     # chamada API\n",
    "#     response = geolocator.reverse(row['query'])\n",
    "#     address = response.raw['address']\n",
    "    \n",
    "    \n",
    "#     place_id = response.raw['place_id'] if 'place_id' in response.raw else 'NA'\n",
    "#     osm_type = response.raw['osm_type'] if 'osm_type' in response.raw else 'NA'\n",
    "#     country = address['country'] if 'country' in address else 'NA'\n",
    "#     country_code = address['country_code'] if 'country_code' in address else 'NA'\n",
    "\n",
    "#     return place_id, osm_type, country, country_code"
   ]
  },
  {
   "cell_type": "code",
   "execution_count": 10,
   "id": "577eca7b",
   "metadata": {},
   "outputs": [
    {
     "name": "stdout",
     "output_type": "stream",
     "text": [
      "Time Elapsed: {} 0.0\n"
     ]
    }
   ],
   "source": [
    "# O jupyter não é preparado para rodar arquivos multitrending, por isso , precisa criar um arquivo de \n",
    "# forma paralela\n",
    "import defs\n",
    "df1 = data[['id', 'query']].sample(10)\n",
    "\n",
    "p = Pool(3)\n",
    "\n",
    "start = time.process_time()\n",
    "df1[['place_id', 'osm_type', 'contry', 'country_code']] = p.map(defs.get_data, df1.iterrows())\n",
    "end = time.process_time()\n",
    "\n",
    "print('Time Elapsed: {}', end - start)"
   ]
  },
  {
   "cell_type": "code",
   "execution_count": 11,
   "id": "7c88d0af",
   "metadata": {},
   "outputs": [
    {
     "data": {
      "text/html": [
       "<div>\n",
       "<style scoped>\n",
       "    .dataframe tbody tr th:only-of-type {\n",
       "        vertical-align: middle;\n",
       "    }\n",
       "\n",
       "    .dataframe tbody tr th {\n",
       "        vertical-align: top;\n",
       "    }\n",
       "\n",
       "    .dataframe thead th {\n",
       "        text-align: right;\n",
       "    }\n",
       "</style>\n",
       "<table border=\"1\" class=\"dataframe\">\n",
       "  <thead>\n",
       "    <tr style=\"text-align: right;\">\n",
       "      <th></th>\n",
       "      <th>id</th>\n",
       "      <th>query</th>\n",
       "      <th>place_id</th>\n",
       "      <th>osm_type</th>\n",
       "      <th>contry</th>\n",
       "      <th>country_code</th>\n",
       "    </tr>\n",
       "  </thead>\n",
       "  <tbody>\n",
       "    <tr>\n",
       "      <th>16816</th>\n",
       "      <td>8029500380</td>\n",
       "      <td>47.3066,-122.394</td>\n",
       "      <td>235563807</td>\n",
       "      <td>way</td>\n",
       "      <td>United States</td>\n",
       "      <td>us</td>\n",
       "    </tr>\n",
       "    <tr>\n",
       "      <th>16962</th>\n",
       "      <td>4239400840</td>\n",
       "      <td>47.3161,-122.182</td>\n",
       "      <td>236412275</td>\n",
       "      <td>way</td>\n",
       "      <td>United States</td>\n",
       "      <td>us</td>\n",
       "    </tr>\n",
       "    <tr>\n",
       "      <th>2624</th>\n",
       "      <td>3275890310</td>\n",
       "      <td>47.6496,-122.083</td>\n",
       "      <td>185604295</td>\n",
       "      <td>way</td>\n",
       "      <td>United States</td>\n",
       "      <td>us</td>\n",
       "    </tr>\n",
       "    <tr>\n",
       "      <th>12943</th>\n",
       "      <td>1623089025</td>\n",
       "      <td>47.481,-121.788</td>\n",
       "      <td>111412049</td>\n",
       "      <td>way</td>\n",
       "      <td>United States</td>\n",
       "      <td>us</td>\n",
       "    </tr>\n",
       "    <tr>\n",
       "      <th>10019</th>\n",
       "      <td>2473420070</td>\n",
       "      <td>47.4514,-122.159</td>\n",
       "      <td>233967029</td>\n",
       "      <td>way</td>\n",
       "      <td>United States</td>\n",
       "      <td>us</td>\n",
       "    </tr>\n",
       "  </tbody>\n",
       "</table>\n",
       "</div>"
      ],
      "text/plain": [
       "               id             query   place_id osm_type         contry  \\\n",
       "16816  8029500380  47.3066,-122.394  235563807      way  United States   \n",
       "16962  4239400840  47.3161,-122.182  236412275      way  United States   \n",
       "2624   3275890310  47.6496,-122.083  185604295      way  United States   \n",
       "12943  1623089025   47.481,-121.788  111412049      way  United States   \n",
       "10019  2473420070  47.4514,-122.159  233967029      way  United States   \n",
       "\n",
       "      country_code  \n",
       "16816           us  \n",
       "16962           us  \n",
       "2624            us  \n",
       "12943           us  \n",
       "10019           us  "
      ]
     },
     "execution_count": 11,
     "metadata": {},
     "output_type": "execute_result"
    }
   ],
   "source": [
    "df1.head()"
   ]
  },
  {
   "cell_type": "markdown",
   "id": "1393fd9a",
   "metadata": {},
   "source": [
    "#### 4. Adicione os seguinte filtros no Mapa:\n",
    "- Tamanho mínimo da área da sala de estar.\n",
    "- Número mínimo de banheiros.\n",
    "- Valor Máximo do Preço.\n",
    "- Tamanho máximo da área do porão.\n",
    "- Filtro das Condições do Imóvel.\n",
    "- Filtro por Ano de Construção."
   ]
  },
  {
   "cell_type": "code",
   "execution_count": 12,
   "id": "3a413080",
   "metadata": {},
   "outputs": [],
   "source": [
    "# Bibliotecas ipywidgets / import interact, interactive, fixed, interact_manual\n",
    "#data['is_waterfront'] = data['is_waterfront'].apply( lambda x: 'yes' if x == 1 'no')\n",
    "\n",
    "# define intercalavite buttons\n",
    "price_limit = widgets.IntSlider(\n",
    "    value = int( data['price'].mean() ),\n",
    "    min = int( data['price'].min() ),\n",
    "    max = int( data['price'].max() ),\n",
    "    step = 3,\n",
    "    description = 'Maximum Price',\n",
    "    disable = False,\n",
    "    style={'description_width': 'initial'} # pega o tamanho total do widget\n",
    ")\n",
    "# define interactive buttons\n",
    "living_limit = widgets.IntSlider(\n",
    "    value = int( data['sqft_living'].mean() ),\n",
    "    min = data['sqft_living'].min(),\n",
    "    max = data['sqft_living'].max(),\n",
    "    step = 1,\n",
    "    description = 'Minium Living Room Size',\n",
    "    disable = False,\n",
    "    style={'description_width': 'initial'} # pega o tamanho total do widget\n",
    " \n",
    ")\n",
    "# define interactive buttons\n",
    "bathrooms_limit = widgets.IntSlider(\n",
    "    value = int( data['bathrooms'].mean() ),\n",
    "    min = data['bathrooms'].min(),\n",
    "    max = data['bathrooms'].max(),\n",
    "    step = 1,\n",
    "    description = 'Minium Values',\n",
    "    disable = False,\n",
    "    style={'description_width': 'initial'} # pega o tamanho total do widget\n",
    " \n",
    ")\n",
    "# define interactive buttons\n",
    "basement_limit = widgets.IntSlider(\n",
    "    value = int( data['sqft_basement'].mean() ),\n",
    "    min = data['sqft_basement'].min(),\n",
    "    max = data['sqft_basement'].max(),\n",
    "    step = 1,\n",
    "    description = 'Maximum basements',\n",
    "    disable = False,\n",
    "    style={'description_width': 'initial'} # pega o tamanho total do widget\n",
    " \n",
    ")\n",
    "# define interactive buttons\n",
    "condition_limit = widgets.IntSlider(\n",
    "    value = int( data['condition'].mean() ),\n",
    "    min = data['condition'].min(),\n",
    "    max = data['condition'].max(),\n",
    "    step = 1,\n",
    "    description = 'House Condition',\n",
    "    disable = False,\n",
    "    style={'description_width': 'initial'} # pega o tamanho total do widget\n",
    " \n",
    ")\n",
    "# define interactive buttons\n",
    "yr_built_limit = widgets.IntSlider(\n",
    "    value = int( data['yr_built'].mean() ),\n",
    "    min = data['yr_built'].min(),\n",
    "    max = data['yr_built'].max(),\n",
    "    step = 1,\n",
    "    description = 'Year Built Limit',\n",
    "    disable = False,\n",
    "    style={'description_width': 'initial'} # pega o tamanho total do widget\n",
    " \n",
    ")"
   ]
  },
  {
   "cell_type": "code",
   "execution_count": 13,
   "id": "f6e6d4d1",
   "metadata": {},
   "outputs": [],
   "source": [
    "def update_map(df, price_limit, living_limit, bathrooms_limit, basement_limit, condition_limit, yr_built_limit ):\n",
    "    # filter data\n",
    "    houses = df[ (df['price'] < price_limit) & \n",
    "                 (df['sqft_living'] > living_limit) &\n",
    "                 (df['bathrooms'] > bathrooms_limit) &\n",
    "                 (df['sqft_basement'] < basement_limit) &\n",
    "                 (df['condition'] == condition_limit ) &\n",
    "                 (df['yr_built'] > yr_built_limit)][['id', 'lat', 'long', 'price', 'sqft_living']].copy()\n",
    "    \n",
    "    # plot map\n",
    "    fig = px.scatter_mapbox( houses,\n",
    "                            lat='lat',\n",
    "                            lon='long',\n",
    "                            #color='level',\n",
    "                            size='price',\n",
    "                            color_continuous_scale=px.colors.cyclical.IceFire,\n",
    "                            size_max=15,\n",
    "                            zoom=10)\n",
    "\n",
    "    fig.update_layout(mapbox_style='open-street-map')\n",
    "    fig.update_layout(height=600, margin={'r':0, 'l':0, 't':0, 'b':0})\n",
    "    fig.show()\n",
    "    "
   ]
  },
  {
   "cell_type": "code",
   "execution_count": 14,
   "id": "88952716",
   "metadata": {},
   "outputs": [
    {
     "data": {
      "application/vnd.jupyter.widget-view+json": {
       "model_id": "7a646b7f9b964503a7611c26b6b24a52",
       "version_major": 2,
       "version_minor": 0
      },
      "text/plain": [
       "interactive(children=(IntSlider(value=540088, description='Maximum Price', max=7700000, min=75000, step=3, sty…"
      ]
     },
     "metadata": {},
     "output_type": "display_data"
    }
   ],
   "source": [
    "widgets.interactive(update_map, df=fixed(data), price_limit=price_limit, living_limit=living_limit,\n",
    "                    bathrooms_limit=bathrooms_limit, basement_limit=basement_limit, condition_limit=condition_limit,\n",
    "                   yr_built_limit=yr_built_limit)"
   ]
  },
  {
   "cell_type": "markdown",
   "id": "85feffe7",
   "metadata": {},
   "source": [
    "#### 5. Adicione os seguinte filtros no Dashboard:\n",
    "- Filtro por data disponível para compra.\n",
    "- Filtro por ano de renovação.\n",
    "- Filtro se possui vista para a água ou não."
   ]
  },
  {
   "cell_type": "code",
   "execution_count": 15,
   "id": "5bc43384",
   "metadata": {},
   "outputs": [],
   "source": [
    "#data.dtypes\n",
    "data['year'] = pd.to_datetime(data['date']).dt.strftime('%Y')\n",
    "data['date'] = pd.to_datetime(data['date']).dt.strftime('%Y-%m-%d')\n",
    "data['year_week'] = pd.to_datetime(data['date']).dt.strftime('%Y-%U')\n",
    "\n",
    "# filtering\n",
    "date_limit = widgets.SelectionSlider(\n",
    "    options = data['date'].sort_values().unique().tolist(), # fazer sort para as opções do rádio não ficar desordenadas\n",
    "    value='2014-12-01',\n",
    "    description='Max avaliable date',\n",
    "    disable=False,\n",
    "    continuous_update=False,\n",
    "    style={'description_width': 'initial'},\n",
    "    redout=True\n",
    ")\n",
    "\n",
    "year_limit = widgets.SelectionSlider(\n",
    "    options = data['yr_renovated'].sort_values().unique().tolist(), # fazer sort para as opções do rádio não ficar desordenadas\n",
    "    value=2000,\n",
    "    description='Max Year',\n",
    "    disable=False,\n",
    "    continuous_update=False,\n",
    "    style={'description_width': 'initial'},\n",
    "    redout=True\n",
    ")\n",
    "\n",
    "waterfront_limit = widgets.Checkbox(\n",
    "    value=False,\n",
    "    description='Is Waterfront ?',\n",
    "    disable=False,\n",
    "    indent=False,\n",
    ")"
   ]
  },
  {
   "cell_type": "code",
   "execution_count": 16,
   "id": "680e0646",
   "metadata": {},
   "outputs": [],
   "source": [
    "def update_map(data, date_limit, year_limit, waterfront_limit):\n",
    "    # filtering data\n",
    "    df = data[(data['date'] <= date_limit) & \n",
    "             (data['yr_renovated'] >= year_limit) &\n",
    "             (data['waterfront'] == waterfront_limit)].copy()\n",
    "    \n",
    "    fig = plt.figure(figsize=(24,12))\n",
    "    specs = gridspec.GridSpec(ncols=2, nrows=2, figure=fig)\n",
    "    \n",
    "    ax1 = fig.add_subplot(specs[0, :])\n",
    "    ax2 = fig.add_subplot(specs[1, 0])\n",
    "    ax3 = fig.add_subplot(specs[1, 1])\n",
    "    \n",
    "    # Primeiro gráfico\n",
    "    by_year = df[['price', 'year']].groupby('year').sum().reset_index()\n",
    "    sns.barplot(x='year', y='price', data=by_year, ax=ax1)\n",
    "    \n",
    "    # Segundo gráfico\n",
    "    by_day = df[['price', 'date']].groupby('date').mean().reset_index()\n",
    "    sns.lineplot(x='date', y='price', data=by_day, ax=ax2)\n",
    "    plt.xticks(rotation=90);\n",
    "    \n",
    "    # terceiro gráfico\n",
    "    by_week_of_year = df[['price', 'year_week']].groupby('year_week').mean().reset_index()\n",
    "    sns.barplot(x='year_week', y='price', data=by_week_of_year, ax=ax3)        \n",
    "    plt.xticks(rotation=90);"
   ]
  },
  {
   "cell_type": "code",
   "execution_count": 17,
   "id": "ca6612c0",
   "metadata": {},
   "outputs": [
    {
     "data": {
      "application/vnd.jupyter.widget-view+json": {
       "model_id": "c8728563103b4f91853765bb9dc4e308",
       "version_major": 2,
       "version_minor": 0
      },
      "text/plain": [
       "interactive(children=(SelectionSlider(continuous_update=False, description='Max avaliable date', index=212, op…"
      ]
     },
     "metadata": {},
     "output_type": "display_data"
    }
   ],
   "source": [
    "widgets.interactive(update_map,\n",
    "                   data = fixed(data),\n",
    "                   date_limit=date_limit,\n",
    "                   year_limit=year_limit,\n",
    "                   waterfront_limit=waterfront_limit)"
   ]
  }
 ],
 "metadata": {
  "kernelspec": {
   "display_name": "Python 3 (ipykernel)",
   "language": "python",
   "name": "python3"
  },
  "language_info": {
   "codemirror_mode": {
    "name": "ipython",
    "version": 3
   },
   "file_extension": ".py",
   "mimetype": "text/x-python",
   "name": "python",
   "nbconvert_exporter": "python",
   "pygments_lexer": "ipython3",
   "version": "3.9.12"
  }
 },
 "nbformat": 4,
 "nbformat_minor": 5
}
